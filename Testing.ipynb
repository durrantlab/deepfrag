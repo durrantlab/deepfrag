{
 "cells": [
  {
   "cell_type": "code",
   "execution_count": 1,
   "metadata": {},
   "outputs": [],
   "source": [
    "import openbabel\n",
    "import pybel\n",
    "import numpy as np"
   ]
  },
  {
   "cell_type": "code",
   "execution_count": 2,
   "metadata": {},
   "outputs": [],
   "source": [
    "%load_ext autoreload\n",
    "%autoreload 2"
   ]
  },
  {
   "cell_type": "code",
   "execution_count": 3,
   "metadata": {},
   "outputs": [
    {
     "name": "stdout",
     "output_type": "stream",
     "text": [
      "../data/docked_dude/aa2ar/actives_final_docked_vina.sdf\r\n"
     ]
    }
   ],
   "source": [
    "!ls ../data/docked_dude/aa2ar/actives_final_docked_vina.sdf"
   ]
  },
  {
   "cell_type": "code",
   "execution_count": 4,
   "metadata": {},
   "outputs": [],
   "source": [
    "actives = [x for x in pybel.readfile('sdf', '../data/docked_dude/aa2ar/actives_final_docked_vina.sdf')]"
   ]
  },
  {
   "cell_type": "code",
   "execution_count": 5,
   "metadata": {},
   "outputs": [],
   "source": [
    "cooh = pybel.Smarts('[CX3](=O)[OX2H1]')"
   ]
  },
  {
   "cell_type": "code",
   "execution_count": 6,
   "metadata": {},
   "outputs": [
    {
     "name": "stdout",
     "output_type": "stream",
     "text": [
      "1762\n",
      "1763\n",
      "1764\n",
      "1765\n",
      "1766\n",
      "1767\n",
      "1768\n",
      "1769\n",
      "1770\n",
      "1771\n",
      "1772\n",
      "1773\n",
      "1774\n",
      "1775\n",
      "1776\n",
      "1777\n",
      "1778\n",
      "1779\n",
      "2761\n",
      "2762\n",
      "2763\n",
      "2764\n",
      "2765\n",
      "2766\n",
      "2767\n",
      "2768\n",
      "2769\n",
      "4768\n",
      "4769\n",
      "4770\n",
      "4771\n",
      "4772\n",
      "4773\n",
      "4774\n",
      "4775\n",
      "4776\n"
     ]
    }
   ],
   "source": [
    "for a in range(len(actives)):\n",
    "    t = cooh.findall(actives[a])\n",
    "    \n",
    "    if t != []:\n",
    "        print a"
   ]
  },
  {
   "cell_type": "code",
   "execution_count": 100,
   "metadata": {},
   "outputs": [
    {
     "data": {
      "text/plain": [
       "[38]"
      ]
     },
     "execution_count": 100,
     "metadata": {},
     "output_type": "execute_result"
    }
   ],
   "source": [
    "a = actives[1762]\n",
    "t = cooh.findall(a)\n",
    "\n",
    "[x.GetIdx() for x in openbabel.OBAtomAtomIter(a.atoms[39].OBAtom)]"
   ]
  },
  {
   "cell_type": "code",
   "execution_count": 123,
   "metadata": {},
   "outputs": [
    {
     "data": {
      "text/plain": [
       "(-12.131, -9.114, 61.917)"
      ]
     },
     "execution_count": 123,
     "metadata": {},
     "output_type": "execute_result"
    }
   ],
   "source": [
    "a.atoms[0].coords"
   ]
  },
  {
   "cell_type": "code",
   "execution_count": 128,
   "metadata": {},
   "outputs": [
    {
     "data": {
      "text/plain": [
       "4"
      ]
     },
     "execution_count": 128,
     "metadata": {},
     "output_type": "execute_result"
    }
   ],
   "source": [
    "a.atoms[3].idx"
   ]
  },
  {
   "cell_type": "code",
   "execution_count": 10,
   "metadata": {},
   "outputs": [],
   "source": [
    "x = (1,2,3,4)"
   ]
  },
  {
   "cell_type": "code",
   "execution_count": 13,
   "metadata": {},
   "outputs": [
    {
     "data": {
      "text/plain": [
       "array([1, 2, 3])"
      ]
     },
     "execution_count": 13,
     "metadata": {},
     "output_type": "execute_result"
    }
   ],
   "source": [
    "np.array(x[:3])"
   ]
  },
  {
   "cell_type": "code",
   "execution_count": 14,
   "metadata": {},
   "outputs": [],
   "source": [
    "import grid"
   ]
  },
  {
   "cell_type": "code",
   "execution_count": 92,
   "metadata": {},
   "outputs": [],
   "source": [
    "atoms = [(0,2,2,0), (0,2,2,1)]\n",
    "radii = [2, 5]\n",
    "center = [0,2,2]\n",
    "width = 24\n",
    "resolution = 0.5"
   ]
  },
  {
   "cell_type": "code",
   "execution_count": 93,
   "metadata": {},
   "outputs": [],
   "source": [
    "g = grid.generate_grid_cpu(atoms, radii, center, width, resolution)"
   ]
  },
  {
   "cell_type": "code",
   "execution_count": 95,
   "metadata": {},
   "outputs": [
    {
     "data": {
      "text/plain": [
       "(48, 48, 48, 2)"
      ]
     },
     "execution_count": 95,
     "metadata": {},
     "output_type": "execute_result"
    }
   ],
   "source": [
    "g.shape"
   ]
  },
  {
   "cell_type": "code",
   "execution_count": 86,
   "metadata": {},
   "outputs": [],
   "source": [
    "a = [1,-2,3]"
   ]
  },
  {
   "cell_type": "code",
   "execution_count": 87,
   "metadata": {},
   "outputs": [
    {
     "data": {
      "text/plain": [
       "False"
      ]
     },
     "execution_count": 87,
     "metadata": {},
     "output_type": "execute_result"
    }
   ],
   "source": [
    "a < [0,0,0]"
   ]
  },
  {
   "cell_type": "code",
   "execution_count": 131,
   "metadata": {},
   "outputs": [],
   "source": [
    "import mol"
   ]
  },
  {
   "cell_type": "code",
   "execution_count": 148,
   "metadata": {},
   "outputs": [],
   "source": [
    "m = mol.Mol.from_pybel(a,)"
   ]
  },
  {
   "cell_type": "code",
   "execution_count": 149,
   "metadata": {},
   "outputs": [
    {
     "data": {
      "text/plain": [
       "40"
      ]
     },
     "execution_count": 149,
     "metadata": {},
     "output_type": "execute_result"
    }
   ],
   "source": [
    "len(m.atoms)"
   ]
  },
  {
   "cell_type": "code",
   "execution_count": 147,
   "metadata": {},
   "outputs": [
    {
     "data": {
      "text/plain": [
       "{'CONFIG': 'DL-POLY CONFIG',\n",
       " 'CONTCAR': 'VASP format',\n",
       " 'CONTFF': 'MDFF format',\n",
       " 'HISTORY': 'DL-POLY HISTORY',\n",
       " 'MDFF': 'MDFF format',\n",
       " 'POSCAR': 'VASP format',\n",
       " 'POSFF': 'MDFF format',\n",
       " 'VASP': 'VASP format',\n",
       " 'abinit': 'ABINIT Output Format',\n",
       " 'acesout': 'ACES output format',\n",
       " 'acr': 'ACR format',\n",
       " 'adfout': 'ADF output format',\n",
       " 'alc': 'Alchemy format',\n",
       " 'aoforce': 'Turbomole AOFORCE output format',\n",
       " 'arc': 'Accelrys/MSI Biosym/Insight II CAR format',\n",
       " 'axsf': 'XCrySDen Structure Format',\n",
       " 'bgf': 'MSI BGF format',\n",
       " 'box': 'Dock 3.5 Box format',\n",
       " 'bs': 'Ball and Stick format',\n",
       " 'c09out': 'Crystal 09 output format',\n",
       " 'c3d1': 'Chem3D Cartesian 1 format',\n",
       " 'c3d2': 'Chem3D Cartesian 2 format',\n",
       " 'caccrt': 'Cacao Cartesian format',\n",
       " 'can': 'Canonical SMILES format',\n",
       " 'car': 'Accelrys/MSI Biosym/Insight II CAR format',\n",
       " 'castep': 'CASTEP format',\n",
       " 'ccc': 'CCC format',\n",
       " 'cdjson': 'ChemDoodle JSON',\n",
       " 'cdx': 'ChemDraw binary format',\n",
       " 'cdxml': 'ChemDraw CDXML format',\n",
       " 'cif': 'Crystallographic Information File',\n",
       " 'ck': 'ChemKin format',\n",
       " 'cml': 'Chemical Markup Language',\n",
       " 'cmlr': 'CML Reaction format',\n",
       " 'crk2d': 'Chemical Resource Kit diagram(2D)',\n",
       " 'crk3d': 'Chemical Resource Kit 3D format',\n",
       " 'ct': 'ChemDraw Connection Table format',\n",
       " 'cub': 'Gaussian cube format',\n",
       " 'cube': 'Gaussian cube format',\n",
       " 'dallog': 'DALTON output format',\n",
       " 'dalmol': 'DALTON input format',\n",
       " 'dat': 'Generic Output file format',\n",
       " 'dmol': 'DMol3 coordinates format',\n",
       " 'dx': 'OpenDX cube format for APBS',\n",
       " 'ent': 'Protein Data Bank format',\n",
       " 'exyz': 'Extended XYZ cartesian coordinates format',\n",
       " 'fa': 'FASTA format',\n",
       " 'fasta': 'FASTA format',\n",
       " 'fch': 'Gaussian formatted checkpoint file format',\n",
       " 'fchk': 'Gaussian formatted checkpoint file format',\n",
       " 'fck': 'Gaussian formatted checkpoint file format',\n",
       " 'feat': 'Feature format',\n",
       " 'fhiaims': 'FHIaims XYZ format',\n",
       " 'fract': 'Free Form Fractional format',\n",
       " 'fs': 'Fastsearch format',\n",
       " 'fsa': 'FASTA format',\n",
       " 'g03': 'Gaussian Output',\n",
       " 'g09': 'Gaussian Output',\n",
       " 'g92': 'Gaussian Output',\n",
       " 'g94': 'Gaussian Output',\n",
       " 'g98': 'Gaussian Output',\n",
       " 'gal': 'Gaussian Output',\n",
       " 'gam': 'GAMESS Output',\n",
       " 'gamess': 'GAMESS Output',\n",
       " 'gamin': 'GAMESS Input',\n",
       " 'gamout': 'GAMESS Output',\n",
       " 'got': 'GULP format',\n",
       " 'gpr': 'Ghemical format',\n",
       " 'gro': 'GRO format',\n",
       " 'gukin': 'GAMESS-UK Input',\n",
       " 'gukout': 'GAMESS-UK Output',\n",
       " 'gzmat': 'Gaussian Z-Matrix Input',\n",
       " 'hin': 'HyperChem HIN format',\n",
       " 'inchi': 'InChI format',\n",
       " 'inp': 'GAMESS Input',\n",
       " 'ins': 'ShelX format',\n",
       " 'jin': 'Jaguar input format',\n",
       " 'jout': 'Jaguar output format',\n",
       " 'log': 'Generic Output file format',\n",
       " 'lpmd': 'LPMD format',\n",
       " 'mcdl': 'MCDL format',\n",
       " 'mcif': 'Macromolecular Crystallographic Info',\n",
       " 'mdl': 'MDL MOL format',\n",
       " 'ml2': 'Sybyl Mol2 format',\n",
       " 'mmcif': 'Macromolecular Crystallographic Info',\n",
       " 'mmd': 'MacroModel format',\n",
       " 'mmod': 'MacroModel format',\n",
       " 'mol': 'MDL MOL format',\n",
       " 'mol2': 'Sybyl Mol2 format',\n",
       " 'mold': 'Molden format',\n",
       " 'molden': 'Molden format',\n",
       " 'molf': 'Molden format',\n",
       " 'moo': 'MOPAC Output format',\n",
       " 'mop': 'MOPAC Cartesian format',\n",
       " 'mopcrt': 'MOPAC Cartesian format',\n",
       " 'mopin': 'MOPAC Internal',\n",
       " 'mopout': 'MOPAC Output format',\n",
       " 'mpc': 'MOPAC Cartesian format',\n",
       " 'mpo': 'Molpro output format',\n",
       " 'mpqc': 'MPQC output format',\n",
       " 'mrv': 'Chemical Markup Language',\n",
       " 'msi': 'Accelrys/MSI Cerius II MSI format',\n",
       " 'nwo': 'NWChem output format',\n",
       " 'orca': 'ORCA output format',\n",
       " 'out': 'Generic Output file format',\n",
       " 'outmol': 'DMol3 coordinates format',\n",
       " 'output': 'Generic Output file format',\n",
       " 'pc': 'PubChem format',\n",
       " 'pcjson': 'PubChem JSON',\n",
       " 'pcm': 'PCModel Format',\n",
       " 'pdb': 'Protein Data Bank format',\n",
       " 'pdbqt': 'AutoDock PDBQT format',\n",
       " 'png': 'PNG 2D depiction',\n",
       " 'pos': 'POS cartesian coordinates format',\n",
       " 'pqr': 'PQR format',\n",
       " 'pqs': 'Parallel Quantum Solutions format',\n",
       " 'prep': 'Amber Prep format',\n",
       " 'pwscf': 'PWscf format',\n",
       " 'qcout': 'Q-Chem output format',\n",
       " 'res': 'ShelX format',\n",
       " 'rsmi': 'Reaction SMILES format',\n",
       " 'rxn': 'MDL RXN format',\n",
       " 'sd': 'MDL MOL format',\n",
       " 'sdf': 'MDL MOL format',\n",
       " 'siesta': 'SIESTA format',\n",
       " 'smi': 'SMILES format',\n",
       " 'smiles': 'SMILES format',\n",
       " 'smy': 'SMILES format using Smiley parser',\n",
       " 'sy2': 'Sybyl Mol2 format',\n",
       " 't41': 'ADF TAPE41 format',\n",
       " 'tdd': 'Thermo format',\n",
       " 'text': 'Read and write raw text',\n",
       " 'therm': 'Thermo format',\n",
       " 'tmol': 'TurboMole Coordinate format',\n",
       " 'txt': 'Title format',\n",
       " 'txyz': 'Tinker XYZ format',\n",
       " 'unixyz': 'UniChem XYZ format',\n",
       " 'vmol': 'ViewMol format',\n",
       " 'xml': 'General XML format',\n",
       " 'xsf': 'XCrySDen Structure Format',\n",
       " 'xyz': 'XYZ cartesian coordinates format',\n",
       " 'yob': 'YASARA.org YOB format'}"
      ]
     },
     "execution_count": 147,
     "metadata": {},
     "output_type": "execute_result"
    }
   ],
   "source": [
    "pybel.informats"
   ]
  },
  {
   "cell_type": "code",
   "execution_count": null,
   "metadata": {},
   "outputs": [],
   "source": []
  }
 ],
 "metadata": {
  "kernelspec": {
   "display_name": "Python (cbio)",
   "language": "python",
   "name": "cbio"
  },
  "language_info": {
   "codemirror_mode": {
    "name": "ipython",
    "version": 2
   },
   "file_extension": ".py",
   "mimetype": "text/x-python",
   "name": "python",
   "nbconvert_exporter": "python",
   "pygments_lexer": "ipython2",
   "version": "2.7.13"
  }
 },
 "nbformat": 4,
 "nbformat_minor": 2
}
