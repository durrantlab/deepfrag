{
 "cells": [
  {
   "cell_type": "code",
   "execution_count": 1,
   "metadata": {},
   "outputs": [],
   "source": [
    "import grid_gpu2\n",
    "import grid_gpu\n",
    "import grid"
   ]
  },
  {
   "cell_type": "code",
   "execution_count": null,
   "metadata": {},
   "outputs": [],
   "source": []
  },
  {
   "cell_type": "code",
   "execution_count": 2,
   "metadata": {},
   "outputs": [],
   "source": [
    "import numpy as np"
   ]
  },
  {
   "cell_type": "code",
   "execution_count": 3,
   "metadata": {},
   "outputs": [],
   "source": [
    "%load_ext autoreload\n",
    "%autoreload 2"
   ]
  },
  {
   "cell_type": "code",
   "execution_count": 4,
   "metadata": {},
   "outputs": [],
   "source": [
    "import os\n",
    "import mol"
   ]
  },
  {
   "cell_type": "code",
   "execution_count": 5,
   "metadata": {},
   "outputs": [],
   "source": [
    "mols = []\n",
    "\n",
    "targets = [x for x in os.listdir('../data/mol/') if x[0] != '.']\n",
    "\n",
    "for t in targets:\n",
    "    mols += mol.Mol.readfile(os.path.join('../data/mol/', t))"
   ]
  },
  {
   "cell_type": "code",
   "execution_count": null,
   "metadata": {},
   "outputs": [],
   "source": []
  },
  {
   "cell_type": "code",
   "execution_count": 6,
   "metadata": {},
   "outputs": [],
   "source": [
    "# atom types to consider\n",
    "ATOM_TYPES = [\n",
    "    6, 7, 8, 9, 15, 16, 17, 35, 53\n",
    "]\n",
    "\n",
    "# mapping\n",
    "# atomic number -> van der waals radius\n",
    "VDW_RADIUS = {\n",
    "    6: 1.9,\n",
    "    7: 1.8,\n",
    "    8: 1.7,\n",
    "    9: 1.5,\n",
    "    15: 2.1,\n",
    "    16: 2.0,\n",
    "    17: 1.8,\n",
    "    35: 2.0,\n",
    "    53: 2.2\n",
    "}"
   ]
  },
  {
   "cell_type": "code",
   "execution_count": 9,
   "metadata": {},
   "outputs": [],
   "source": [
    "g2 = grid_gpu2.generate_grid_gpu(mols[0].atoms, ATOM_TYPES, VDW_RADIUS, mols[0].center(), 24, 0.5)"
   ]
  },
  {
   "cell_type": "code",
   "execution_count": 10,
   "metadata": {},
   "outputs": [],
   "source": [
    "g0 = grid.generate_grid_cpu(mols[0].atoms, ATOM_TYPES, VDW_RADIUS, mols[0].center(), 24, 0.5)"
   ]
  },
  {
   "cell_type": "code",
   "execution_count": null,
   "metadata": {},
   "outputs": [],
   "source": []
  },
  {
   "cell_type": "code",
   "execution_count": 15,
   "metadata": {},
   "outputs": [
    {
     "data": {
      "text/plain": [
       "0.029399282656419112"
      ]
     },
     "execution_count": 15,
     "metadata": {},
     "output_type": "execute_result"
    }
   ],
   "source": [
    "np.max(np.abs(g0 - g2))"
   ]
  },
  {
   "cell_type": "code",
   "execution_count": 16,
   "metadata": {},
   "outputs": [],
   "source": [
    "N = 10\n",
    "i = 1\n",
    "import time"
   ]
  },
  {
   "cell_type": "code",
   "execution_count": 111,
   "metadata": {},
   "outputs": [
    {
     "name": "stdout",
     "output_type": "stream",
     "text": [
      "regular: 7.404712\n"
     ]
    }
   ],
   "source": [
    "a = time.time()\n",
    "for i in range(N):\n",
    "    g = grid.generate_grid_cpu(mols[i].atoms, ATOM_TYPES, VDW_RADIUS, mols[i].center(), 24, 0.5)\n",
    "b = time.time()\n",
    "\n",
    "print('regular: %f' % (b - a))"
   ]
  },
  {
   "cell_type": "code",
   "execution_count": 112,
   "metadata": {},
   "outputs": [
    {
     "name": "stdout",
     "output_type": "stream",
     "text": [
      "grid1: 1.281223\n"
     ]
    }
   ],
   "source": [
    "a = time.time()\n",
    "for i in range(N):\n",
    "    g1 = grid_gpu.generate_grid_gpu(mols[i].atoms, ATOM_TYPES, VDW_RADIUS, mols[i].center(), 24, 0.5)\n",
    "b = time.time()\n",
    "\n",
    "print('grid1: %f' % (b - a))"
   ]
  },
  {
   "cell_type": "code",
   "execution_count": 124,
   "metadata": {},
   "outputs": [
    {
     "name": "stdout",
     "output_type": "stream",
     "text": [
      "grid2: 0.096580\n"
     ]
    }
   ],
   "source": [
    "a = time.time()\n",
    "for i in range(N):\n",
    "    g2 = grid_gpu2.generate_grid_gpu(mols[i].atoms, ATOM_TYPES, VDW_RADIUS, mols[i].center(), 24, 0.5, rotation_vec=r)\n",
    "b = time.time()\n",
    "\n",
    "print('grid2: %f' % (b - a))"
   ]
  },
  {
   "cell_type": "code",
   "execution_count": 122,
   "metadata": {},
   "outputs": [],
   "source": [
    "r = rotation.rand_rot()"
   ]
  },
  {
   "cell_type": "code",
   "execution_count": 123,
   "metadata": {},
   "outputs": [
    {
     "data": {
      "text/plain": [
       "(-0.68303215610766033,\n",
       " 0.01629461689893489,\n",
       " 0.6376531433702638,\n",
       " 0.35580897674603368)"
      ]
     },
     "execution_count": 123,
     "metadata": {},
     "output_type": "execute_result"
    }
   ],
   "source": [
    "r"
   ]
  },
  {
   "cell_type": "code",
   "execution_count": 125,
   "metadata": {},
   "outputs": [],
   "source": [
    "np.save('grid_out_rot.npy', g2)"
   ]
  },
  {
   "cell_type": "code",
   "execution_count": 151,
   "metadata": {},
   "outputs": [
    {
     "name": "stdout",
     "output_type": "stream",
     "text": [
      "Converter.ipynb  grid_gpu.pyc  model.py   __pycache__\t trainer.py\n",
      "grid_gpu2.py\t grid_out.npy  model.pyc  Testing.ipynb  trainer.pyc\n",
      "grid_gpu2.pyc\t grid.py       mol.py\t  test.py\t Untitled.ipynb\n",
      "grid_gpu.py\t grid.pyc      mol.pyc\t  todo.md\n"
     ]
    }
   ],
   "source": [
    "!ls"
   ]
  },
  {
   "cell_type": "code",
   "execution_count": null,
   "metadata": {},
   "outputs": [],
   "source": []
  },
  {
   "cell_type": "code",
   "execution_count": null,
   "metadata": {},
   "outputs": [],
   "source": []
  },
  {
   "cell_type": "code",
   "execution_count": 23,
   "metadata": {},
   "outputs": [],
   "source": [
    "from keras.layers import Input, Dense\n",
    "from keras.models import Model"
   ]
  },
  {
   "cell_type": "code",
   "execution_count": 43,
   "metadata": {},
   "outputs": [],
   "source": [
    "i = Input((3,))\n",
    "x = Dense(10)(i)\n",
    "x = Dense(10)(x)\n",
    "\n",
    "m = Model(inputs=i, outputs=x)\n",
    "m.compile(optimizer='adam', loss='binary_crossentropy')"
   ]
  },
  {
   "cell_type": "code",
   "execution_count": 44,
   "metadata": {},
   "outputs": [
    {
     "name": "stdout",
     "output_type": "stream",
     "text": [
      "_________________________________________________________________\n",
      "Layer (type)                 Output Shape              Param #   \n",
      "=================================================================\n",
      "input_11 (InputLayer)        (None, 3)                 0         \n",
      "_________________________________________________________________\n",
      "dense_19 (Dense)             (None, 10)                40        \n",
      "_________________________________________________________________\n",
      "dense_20 (Dense)             (None, 10)                110       \n",
      "=================================================================\n",
      "Total params: 150\n",
      "Trainable params: 150\n",
      "Non-trainable params: 0\n",
      "_________________________________________________________________\n"
     ]
    }
   ],
   "source": [
    "m.summary()"
   ]
  },
  {
   "cell_type": "code",
   "execution_count": 63,
   "metadata": {},
   "outputs": [
    {
     "name": "stdout",
     "output_type": "stream",
     "text": [
      "(1, 3)\n"
     ]
    },
    {
     "data": {
      "text/plain": [
       "array([[-0.19266981, -1.0031219 , -1.59467   , -1.3769138 , -0.4194125 ,\n",
       "        -0.7646944 , -0.00879142, -1.838633  , -0.70543206, -1.2563015 ]],\n",
       "      dtype=float32)"
      ]
     },
     "execution_count": 63,
     "metadata": {},
     "output_type": "execute_result"
    }
   ],
   "source": [
    "X = np.array([[1,2,3]])\n",
    "X.reshape((-1, 3))\n",
    "\n",
    "print(X.shape)\n",
    "\n",
    "m.predict(X)"
   ]
  },
  {
   "cell_type": "code",
   "execution_count": 43,
   "metadata": {},
   "outputs": [],
   "source": [
    "import rotation"
   ]
  },
  {
   "cell_type": "code",
   "execution_count": 66,
   "metadata": {},
   "outputs": [],
   "source": [
    "q = rotation.rand_rot()"
   ]
  },
  {
   "cell_type": "code",
   "execution_count": 67,
   "metadata": {},
   "outputs": [
    {
     "data": {
      "text/plain": [
       "(-0.2134766722643229,\n",
       " 0.052690574500957404,\n",
       " -0.93085797172757001,\n",
       " -0.29181303985419199)"
      ]
     },
     "execution_count": 67,
     "metadata": {},
     "output_type": "execute_result"
    }
   ],
   "source": [
    "q"
   ]
  },
  {
   "cell_type": "code",
   "execution_count": 68,
   "metadata": {},
   "outputs": [],
   "source": [
    "v = [3, 4, 5]"
   ]
  },
  {
   "cell_type": "code",
   "execution_count": 86,
   "metadata": {},
   "outputs": [
    {
     "name": "stdout",
     "output_type": "stream",
     "text": [
      "(0.35936803020665448, -0.047907197625530036, -0.87904442261237159, 0.30958104327484226)\n",
      "50\n",
      "50.0\n"
     ]
    }
   ],
   "source": [
    "q = rotation.rand_rot()\n",
    "print(q)\n",
    "\n",
    "v = [3, 4, 5]\n",
    "v2 = rotation.apply_rot(v, q)\n",
    "\n",
    "print(sum(x ** 2 for x in v))\n",
    "print(sum(x ** 2 for x in v2))"
   ]
  },
  {
   "cell_type": "code",
   "execution_count": 109,
   "metadata": {},
   "outputs": [],
   "source": [
    "q = (1,0,0,0)"
   ]
  },
  {
   "cell_type": "code",
   "execution_count": 110,
   "metadata": {},
   "outputs": [
    {
     "data": {
      "text/plain": [
       "(3, 4, 5)"
      ]
     },
     "execution_count": 110,
     "metadata": {},
     "output_type": "execute_result"
    }
   ],
   "source": [
    "rotation.apply_rot(v,q)"
   ]
  },
  {
   "cell_type": "code",
   "execution_count": null,
   "metadata": {},
   "outputs": [],
   "source": []
  },
  {
   "cell_type": "code",
   "execution_count": null,
   "metadata": {},
   "outputs": [],
   "source": []
  }
 ],
 "metadata": {
  "kernelspec": {
   "display_name": "Python 2.7",
   "language": "python",
   "name": "python2.7"
  },
  "language_info": {
   "codemirror_mode": {
    "name": "ipython",
    "version": 2
   },
   "file_extension": ".py",
   "mimetype": "text/x-python",
   "name": "python",
   "nbconvert_exporter": "python",
   "pygments_lexer": "ipython2",
   "version": "2.7.13"
  }
 },
 "nbformat": 4,
 "nbformat_minor": 2
}
