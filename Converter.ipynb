{
 "cells": [
  {
   "cell_type": "code",
   "execution_count": 1,
   "metadata": {},
   "outputs": [
    {
     "name": "stderr",
     "output_type": "stream",
     "text": [
      "Using TensorFlow backend.\n"
     ]
    }
   ],
   "source": [
    "import pybel\n",
    "import openbabel\n",
    "import numpy as np\n",
    "from mayavi import mlab\n",
    "import tqdm\n",
    "\n",
    "import mol\n",
    "import grid\n",
    "import trainer\n",
    "\n",
    "import os\n",
    "import gzip"
   ]
  },
  {
   "cell_type": "code",
   "execution_count": 2,
   "metadata": {},
   "outputs": [],
   "source": [
    "%load_ext autoreload\n",
    "%autoreload 2"
   ]
  },
  {
   "cell_type": "code",
   "execution_count": 64,
   "metadata": {},
   "outputs": [
    {
     "name": "stderr",
     "output_type": "stream",
     "text": [
      "100%|██████████| 102/102 [00:28<00:00,  4.59it/s]\n"
     ]
    }
   ],
   "source": [
    "d = trainer.load_training_data()"
   ]
  },
  {
   "cell_type": "code",
   "execution_count": 65,
   "metadata": {},
   "outputs": [
    {
     "data": {
      "text/plain": [
       "85"
      ]
     },
     "execution_count": 65,
     "metadata": {},
     "output_type": "execute_result"
    }
   ],
   "source": [
    "len(d)"
   ]
  },
  {
   "cell_type": "code",
   "execution_count": 66,
   "metadata": {},
   "outputs": [],
   "source": [
    "a = trainer.grid_generator(d, 2, 20, 1).next()"
   ]
  },
  {
   "cell_type": "code",
   "execution_count": 58,
   "metadata": {},
   "outputs": [],
   "source": [
    "g = a[0]['target_in'][0]"
   ]
  },
  {
   "cell_type": "code",
   "execution_count": 71,
   "metadata": {},
   "outputs": [
    {
     "data": {
      "text/plain": [
       "(2, 20, 20, 20)"
      ]
     },
     "execution_count": 71,
     "metadata": {},
     "output_type": "execute_result"
    }
   ],
   "source": [
    "a[1]['fragment_out'].shape"
   ]
  },
  {
   "cell_type": "code",
   "execution_count": null,
   "metadata": {},
   "outputs": [],
   "source": []
  },
  {
   "cell_type": "code",
   "execution_count": 94,
   "metadata": {},
   "outputs": [
    {
     "name": "stdout",
     "output_type": "stream",
     "text": [
      "aa2ar : found 36 matches\n",
      "abl1 : found 27 matches\n",
      "ace : found 8469 matches\n",
      "aces : found 18 matches\n",
      "ada : found 0 matches\n",
      "ada17 : found 63 matches\n",
      "adrb1 : found 405 matches\n",
      "adrb2 : found 135 matches\n",
      "akt1 : found 15 matches\n",
      "akt2 : found 9 matches\n",
      "aldr : found 1030 matches\n",
      "ampc : found 648 matches\n",
      "andr : found 32 matches\n",
      "aofb : found 9 matches\n",
      "bace1 : found 45 matches\n",
      "braf : found 9 matches\n",
      "cah2 : found 1098 matches\n",
      "casp3 : found 1863 matches\n",
      "cdk2 : found 0 matches\n",
      "comt : found 45 matches\n",
      "cp2c9 : found 204 matches\n",
      "cp3a4 : found 81 matches\n",
      "csf1r : found 18 matches\n",
      "cxcr4 : found 0 matches\n",
      "def : found 0 matches\n",
      "dhi1 : found 145 matches\n",
      "dpp4 : found 333 matches\n",
      "drd3 : found 0 matches\n",
      "dyr : found 3519 matches\n",
      "egfr : found 45 matches\n",
      "esr1 : found 41 matches\n",
      "esr2 : found 79 matches\n",
      "fa10 : found 392 matches\n",
      "fa7 : found 765 matches\n",
      "fabp4 : found 492 matches\n",
      "fak1 : found 36 matches\n",
      "fgfr1 : found 36 matches\n",
      "fkb1a : found 36 matches\n",
      "fnta : found 2492 matches\n",
      "fpps : found 0 matches\n",
      "gcr : found 24 matches\n",
      "glcm : found 0 matches\n",
      "gria2 : found 1314 matches\n",
      "grik1 : found 1431 matches\n",
      "hdac2 : found 27 matches\n",
      "hdac8 : found 21 matches\n",
      "hivint : found 1017 matches\n",
      "hivpr : found 306 matches\n",
      "hivrt : found 27 matches\n",
      "hmdh : found 1422 matches\n",
      "hs90a : found 36 matches\n",
      "hxk4 : found 144 matches\n",
      "igf1r : found 18 matches\n",
      "inha : found 27 matches\n",
      "ital : found 657 matches\n",
      "jak2 : found 0 matches\n",
      "kif11 : found 24 matches\n",
      "kit : found 0 matches\n",
      "kith : found 0 matches\n",
      "kpcb : found 576 matches\n",
      "lck : found 108 matches\n",
      "lkha4 : found 1000 matches\n",
      "mapk2 : found 54 matches\n",
      "mcr : found 71 matches\n",
      "met : found 0 matches\n",
      "mk01 : found 0 matches\n",
      "mk10 : found 0 matches\n",
      "mk14 : found 54 matches\n",
      "mmp13 : found 1580 matches\n",
      "mp2k1 : found 0 matches\n",
      "nos1 : found 9 matches\n",
      "nram : found 1908 matches\n",
      "pa2ga : found 504 matches\n",
      "parp1 : found 0 matches\n",
      "pde5a : found 81 matches\n",
      "pgh1 : found 274 matches\n",
      "pgh2 : found 686 matches\n",
      "plk1 : found 9 matches\n",
      "pnph : found 0 matches\n",
      "ppara : found 4362 matches\n",
      "ppard : found 2304 matches\n",
      "pparg : found 5013 matches\n",
      "prgr : found 3 matches\n",
      "ptn1 : found 1314 matches\n",
      "pur2 : found 3402 matches\n",
      "pygm : found 1044 matches\n",
      "pyrd : found 639 matches\n",
      "reni : found 171 matches\n",
      "rock1 : found 0 matches\n",
      "rxra : found 496 matches\n",
      "sahh : found 17 matches\n",
      "src : found 126 matches\n",
      "tgfr1 : found 72 matches\n",
      "thb : found 449 matches\n",
      "thrb : found 1170 matches\n",
      "try1 : found 711 matches\n",
      "tryb1 : found 648 matches\n",
      "tysy : found 2286 matches\n",
      "urok : found 324 matches\n",
      "vgfr2 : found 36 matches\n",
      "wee1 : found 51 matches\n",
      "xiap : found 180 matches\n"
     ]
    }
   ],
   "source": [
    "targets = [x for x in os.listdir('../data/docked_dude/') if x[0] != '.']\n",
    "cooh = pybel.Smarts('[CX3](=O)[OX2H1]')\n",
    "\n",
    "# targets = targets[:1]\n",
    "\n",
    "# temporary file to store uncompressed sdf data\n",
    "tmp_file = '../data/tmp.sdf'\n",
    "\n",
    "# reset mol directory\n",
    "\n",
    "for t in targets:\n",
    "    # find actives file\n",
    "    a_file = os.path.join('../data/docked_dude/', t, 'actives_final_docked_vina.sdf.gz')\n",
    "    \n",
    "    # decompress\n",
    "    with gzip.open(a_file) as f:\n",
    "        with open(tmp_file, 'w') as w:\n",
    "            w.write(f.read())\n",
    "        \n",
    "    # read active molecules\n",
    "    actives = [x for x in pybel.readfile('sdf', tmp_file)]\n",
    "    \n",
    "    mols = []\n",
    "    \n",
    "    # filter by functional group\n",
    "    for active in actives:\n",
    "        matches = cooh.findall(active)\n",
    "            \n",
    "        if len(matches) > 0:\n",
    "            for m in matches:\n",
    "                mols.append(mol.Mol.from_pybel(active, m))\n",
    "                \n",
    "    print('%s : found %d matches' % (t, len(mols)))\n",
    "    \n",
    "    # save molecules\n",
    "    m_file = os.path.join('../data/mol/', t + '.dat')\n",
    "    mol.Mol.writefile(m_file, mols)"
   ]
  },
  {
   "cell_type": "code",
   "execution_count": null,
   "metadata": {},
   "outputs": [],
   "source": []
  },
  {
   "cell_type": "code",
   "execution_count": 54,
   "metadata": {},
   "outputs": [],
   "source": [
    "mols = []\n",
    "\n",
    "targets = [x for x in os.listdir('../data/mol/') if x[0] != '.']\n",
    "\n",
    "for t in targets:\n",
    "    mols += mol.Mol.readfile(os.path.join('../data/mol/', t))"
   ]
  },
  {
   "cell_type": "code",
   "execution_count": null,
   "metadata": {},
   "outputs": [],
   "source": [
    " "
   ]
  },
  {
   "cell_type": "code",
   "execution_count": 257,
   "metadata": {},
   "outputs": [],
   "source": [
    "# atom types to consider\n",
    "ATOM_TYPES = [\n",
    "    6, 7, 8, 9, 15, 16, 17, 35, 53\n",
    "]\n",
    "\n",
    "# mapping\n",
    "# atomic number -> van der waals radius\n",
    "VDW_RADIUS = {\n",
    "    6: 1.9,\n",
    "    7: 1.8,\n",
    "    8: 1.7,\n",
    "    9: 1.5,\n",
    "    15: 2.1,\n",
    "    16: 2.0,\n",
    "    17: 1.8,\n",
    "    35: 2.0,\n",
    "    53: 2.2\n",
    "}"
   ]
  },
  {
   "cell_type": "code",
   "execution_count": 258,
   "metadata": {},
   "outputs": [],
   "source": [
    "import grid"
   ]
  },
  {
   "cell_type": "code",
   "execution_count": null,
   "metadata": {},
   "outputs": [],
   "source": []
  },
  {
   "cell_type": "code",
   "execution_count": 266,
   "metadata": {},
   "outputs": [],
   "source": [
    "g = grid.generate_grid_cpu(mols[20000].atoms, ATOM_TYPES, VDW_RADIUS, mols[20000].center(), 24, 1)"
   ]
  },
  {
   "cell_type": "code",
   "execution_count": 268,
   "metadata": {},
   "outputs": [],
   "source": [
    "aa2ar_pdb = [x for x in pybel.readfile('pdb', '../data/dude/aa2ar/receptor.pdb')][0]"
   ]
  },
  {
   "cell_type": "code",
   "execution_count": 269,
   "metadata": {},
   "outputs": [],
   "source": [
    "aa2ar_mol = mol.Mol.from_pybel(aa2ar_pdb)"
   ]
  },
  {
   "cell_type": "code",
   "execution_count": 270,
   "metadata": {},
   "outputs": [],
   "source": [
    "g = grid.generate_grid_cpu(aa2ar_mol.atoms, ATOM_TYPES, VDW_RADIUS, aa2ar_mol.center(), 24, 1)"
   ]
  },
  {
   "cell_type": "code",
   "execution_count": null,
   "metadata": {},
   "outputs": [],
   "source": [
    "pybel.readfile('pdb', '../data/dude/aa2ar/receptor.pdb').next()"
   ]
  },
  {
   "cell_type": "code",
   "execution_count": 53,
   "metadata": {},
   "outputs": [],
   "source": [
    "s = np.sum(g,axis=3)\n",
    "src = mlab.pipeline.scalar_field(s)\n",
    "mlab.pipeline.iso_surface(src, contours=[s.min()+0.1*s.ptp(), ], opacity=0.1)\n",
    "mlab.pipeline.iso_surface(src, contours=[s.max()-0.1*s.ptp(), ],)\n",
    "mlab.pipeline.image_plane_widget(src,\n",
    "                            plane_orientation='z_axes',\n",
    "                            slice_index=10,\n",
    "                        )\n",
    "mlab.show()"
   ]
  },
  {
   "cell_type": "code",
   "execution_count": 271,
   "metadata": {},
   "outputs": [],
   "source": [
    "x = []\n",
    "y = []\n",
    "z = []\n",
    "s = []\n",
    "c = []\n",
    "\n",
    "\n",
    "for p in np.ndindex(g.shape[:-1]):\n",
    "    for t in range(g.shape[-1]):\n",
    "        if g[p[0], p[1], p[2], t] != 0:\n",
    "            x.append(p[0])\n",
    "            y.append(p[1])\n",
    "            z.append(p[2])\n",
    "            s.append(g[p[0], p[1], p[2], t])\n",
    "            c.append(t)\n",
    "        \n",
    "pts = mlab.quiver3d(x, y, z, s, s, s, scalars=c, mode='sphere')\n",
    "pts.glyph.color_mode = 'color_by_scalar'\n",
    "pts.glyph.glyph_source.glyph_source.center = [0, 0, 0]\n",
    "\n",
    "mlab.show()"
   ]
  },
  {
   "cell_type": "code",
   "execution_count": null,
   "metadata": {},
   "outputs": [],
   "source": []
  },
  {
   "cell_type": "code",
   "execution_count": 66,
   "metadata": {},
   "outputs": [],
   "source": [
    "import model"
   ]
  },
  {
   "cell_type": "code",
   "execution_count": 70,
   "metadata": {},
   "outputs": [
    {
     "name": "stdout",
     "output_type": "stream",
     "text": [
      "______________________________________________________________________________________________________________\n",
      "Layer (type)                        Output Shape            Param #      Connected to                         \n",
      "==============================================================================================================\n",
      "ligand_in (InputLayer)              (None, 20, 20, 20, 9)   0                                                 \n",
      "______________________________________________________________________________________________________________\n",
      "target_in (InputLayer)              (None, 20, 20, 20, 9)   0                                                 \n",
      "______________________________________________________________________________________________________________\n",
      "concatenate_9 (Concatenate)         (None, 20, 20, 20, 18)  0            ligand_in[0][0]                      \n",
      "                                                                         target_in[0][0]                      \n",
      "______________________________________________________________________________________________________________\n",
      "conv3d_28 (Conv3D)                  (None, 20, 20, 20, 64)  31168        concatenate_9[0][0]                  \n",
      "______________________________________________________________________________________________________________\n",
      "conv3d_29 (Conv3D)                  (None, 20, 20, 20, 64)  110656       conv3d_28[0][0]                      \n",
      "______________________________________________________________________________________________________________\n",
      "max_pooling3d_17 (MaxPooling3D)     (None, 10, 10, 10, 64)  0            conv3d_29[0][0]                      \n",
      "______________________________________________________________________________________________________________\n",
      "conv3d_30 (Conv3D)                  (None, 10, 10, 10, 128) 221312       max_pooling3d_17[0][0]               \n",
      "______________________________________________________________________________________________________________\n",
      "conv3d_31 (Conv3D)                  (None, 10, 10, 10, 128) 442496       conv3d_30[0][0]                      \n",
      "______________________________________________________________________________________________________________\n",
      "max_pooling3d_18 (MaxPooling3D)     (None, 5, 5, 5, 128)    0            conv3d_31[0][0]                      \n",
      "______________________________________________________________________________________________________________\n",
      "conv3d_32 (Conv3D)                  (None, 5, 5, 5, 256)    884992       max_pooling3d_18[0][0]               \n",
      "______________________________________________________________________________________________________________\n",
      "conv3d_33 (Conv3D)                  (None, 5, 5, 5, 256)    1769728      conv3d_32[0][0]                      \n",
      "______________________________________________________________________________________________________________\n",
      "fragment_out (Conv3DTranspose)      (None, 20, 20, 20, 1)   32001        conv3d_33[0][0]                      \n",
      "==============================================================================================================\n",
      "Total params: 3,492,353\n",
      "Trainable params: 3,492,353\n",
      "Non-trainable params: 0\n",
      "______________________________________________________________________________________________________________\n"
     ]
    }
   ],
   "source": [
    "m = model.MolPredictModel()"
   ]
  },
  {
   "cell_type": "code",
   "execution_count": 75,
   "metadata": {},
   "outputs": [
    {
     "name": "stderr",
     "output_type": "stream",
     "text": [
      "\r",
      "  0%|          | 0/1 [00:00<?, ?it/s]"
     ]
    },
    {
     "name": "stdout",
     "output_type": "stream",
     "text": [
      "Training targets:\n",
      "- ace\n",
      "Test targets:\n",
      "- wee1\n",
      "Loading training data...\n"
     ]
    },
    {
     "name": "stderr",
     "output_type": "stream",
     "text": [
      "100%|██████████| 1/1 [00:01<00:00,  1.15s/it]\n",
      "100%|██████████| 1/1 [00:00<00:00,  6.75it/s]\n",
      "  0%|          | 0/10 [00:00<?, ?it/s]"
     ]
    },
    {
     "name": "stdout",
     "output_type": "stream",
     "text": [
      "Loading testing data...\n",
      "Generating testing grid data...\n"
     ]
    },
    {
     "name": "stderr",
     "output_type": "stream",
     "text": [
      "100%|██████████| 10/10 [00:21<00:00,  2.15s/it]\n"
     ]
    },
    {
     "name": "stdout",
     "output_type": "stream",
     "text": [
      "Training...\n",
      "Epoch 1/1\n",
      "30/30 [==============================] - 952s 32s/step - loss: 0.6589 - acc: 0.9694 - val_loss: 0.6242 - val_acc: 0.9875\n"
     ]
    }
   ],
   "source": [
    "m.train()"
   ]
  },
  {
   "cell_type": "code",
   "execution_count": 109,
   "metadata": {},
   "outputs": [
    {
     "name": "stdout",
     "output_type": "stream",
     "text": [
      "Epoch 1/1\n",
      "100/100 [==============================] - 384s 4s/step - loss: 0.4437 - acc: 0.9887\n"
     ]
    },
    {
     "data": {
      "text/plain": [
       "<keras.callbacks.History at 0x14ac32890>"
      ]
     },
     "execution_count": 109,
     "metadata": {},
     "output_type": "execute_result"
    }
   ],
   "source": [
    "m.model.fit(dataset[0], dataset[1], steps_per_epoch=100)"
   ]
  },
  {
   "cell_type": "code",
   "execution_count": 23,
   "metadata": {},
   "outputs": [],
   "source": [
    "mols = mol.Mol.readfile('../data/mol/ace.dat')"
   ]
  },
  {
   "cell_type": "code",
   "execution_count": 24,
   "metadata": {},
   "outputs": [],
   "source": [
    "target_pdb = (pybel.readfile('pdb', '../data/dude/ace/receptor.pdb')).next()\n",
    "target_mol = mol.Mol.from_pybel(target_pdb)"
   ]
  },
  {
   "cell_type": "code",
   "execution_count": 86,
   "metadata": {},
   "outputs": [
    {
     "name": "stderr",
     "output_type": "stream",
     "text": [
      "100%|██████████| 1/1 [00:03<00:00,  3.91s/it]\n"
     ]
    }
   ],
   "source": [
    "data = [(target_mol, [mols[0]])]\n",
    "\n",
    "dataset = trainer.full_grid_generator(data, 20, 1)"
   ]
  },
  {
   "cell_type": "code",
   "execution_count": 87,
   "metadata": {},
   "outputs": [],
   "source": [
    "X = dataset"
   ]
  },
  {
   "cell_type": "code",
   "execution_count": 110,
   "metadata": {},
   "outputs": [],
   "source": [
    "o = m.model.predict(X[0])[0]"
   ]
  },
  {
   "cell_type": "code",
   "execution_count": 111,
   "metadata": {},
   "outputs": [
    {
     "name": "stdout",
     "output_type": "stream",
     "text": [
      "(20, 20, 20)\n"
     ]
    }
   ],
   "source": [
    "a = np.sum(X[0]['ligand_in'][0], axis=3)\n",
    "b = np.sum(X[0]['target_in'][0], axis=3)\n",
    "d = np.sum(X[1]['fragment_out'][0], axis=3)\n",
    "f2 = np.reshape(o, [20,20,20])\n",
    "f = ((f2 - np.min(f2)) / (np.max(f2) - np.min(f2)))\n",
    "\n",
    "z = np.copy(f)\n",
    "z[np.where(f < 0.3)] = 0\n",
    "\n",
    "print(z.shape)\n",
    "\n",
    "g = np.stack([a,d,z], axis=3)"
   ]
  },
  {
   "cell_type": "code",
   "execution_count": 113,
   "metadata": {},
   "outputs": [
    {
     "data": {
      "text/plain": [
       "0.31661603"
      ]
     },
     "execution_count": 113,
     "metadata": {},
     "output_type": "execute_result"
    }
   ],
   "source": [
    "np.min(f2)"
   ]
  },
  {
   "cell_type": "code",
   "execution_count": 168,
   "metadata": {},
   "outputs": [],
   "source": [
    "g = np.reshape(np.sum(X['target_in'][0], axis=3), [20,20,20,1])"
   ]
  },
  {
   "cell_type": "code",
   "execution_count": 115,
   "metadata": {},
   "outputs": [],
   "source": [
    "x = []\n",
    "y = []\n",
    "z = []\n",
    "s = []\n",
    "c = []\n",
    "\n",
    "# (x,y,z) = np.where(f >= np.max(f) * 0.2)\n",
    "# x = list(x)\n",
    "# y = list(y)\n",
    "# z = list(z)\n",
    "# s = [2] * len(x)\n",
    "# c = [2] * len(x)\n",
    "\n",
    "for p in np.ndindex(g.shape[:-1]):\n",
    "    for t in range(g.shape[-1]):\n",
    "        if g[p[0], p[1], p[2], t] != 0:\n",
    "            x.append(p[0])\n",
    "            y.append(p[1])\n",
    "            z.append(p[2])\n",
    "            s.append(g[p[0], p[1], p[2], t])\n",
    "#             s.append(1)\n",
    "            c.append(t)\n",
    "        \n",
    "pts = mlab.quiver3d(x, y, z, s, s, s, scalars=c, mode='sphere')\n",
    "pts.glyph.color_mode = 'color_by_scalar'\n",
    "pts.glyph.glyph_source.glyph_source.center = [0, 0, 0]\n",
    "\n",
    "mlab.show()"
   ]
  },
  {
   "cell_type": "code",
   "execution_count": null,
   "metadata": {},
   "outputs": [],
   "source": []
  }
 ],
 "metadata": {
  "kernelspec": {
   "display_name": "Python (cbio)",
   "language": "python",
   "name": "cbio"
  },
  "language_info": {
   "codemirror_mode": {
    "name": "ipython",
    "version": 2
   },
   "file_extension": ".py",
   "mimetype": "text/x-python",
   "name": "python",
   "nbconvert_exporter": "python",
   "pygments_lexer": "ipython2",
   "version": "2.7.13"
  }
 },
 "nbformat": 4,
 "nbformat_minor": 2
}
